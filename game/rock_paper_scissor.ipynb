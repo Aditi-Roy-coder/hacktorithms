{
  "nbformat": 4,
  "nbformat_minor": 0,
  "metadata": {
    "colab": {
      "provenance": []
    },
    "kernelspec": {
      "name": "python3",
      "display_name": "Python 3"
    },
    "language_info": {
      "name": "python"
    }
  },
  "cells": [
    {
      "cell_type": "code",
      "execution_count": 3,
      "metadata": {
        "id": "KelQVkIimNXU"
      },
      "outputs": [],
      "source": [
        "import random"
      ]
    },
    {
      "cell_type": "code",
      "source": [
        "def play():\n",
        "    player = input(\"'r' for rock, 'p' for paper, 's' for scissors \\n\")\n",
        "    comp = random.choice(['r','p','s'])\n",
        "    \n",
        "    if player == comp:\n",
        "        return 'Match Tie'\n",
        "    elif win(player, comp):\n",
        "        return 'You Won'\n",
        "    return 'You Lost'\n",
        "\n",
        "def win(player,opponent):\n",
        "    #r>s s>p p>r\n",
        "    if(player == 'r' and opponent == 's') or (player == 's' and opponent == 'p') or (player == 'p' and opponent == 'r'):\n",
        "       return True\n",
        "print(play())\n",
        "\n",
        "\n"
      ],
      "metadata": {
        "colab": {
          "base_uri": "https://localhost:8080/"
        },
        "id": "obI4b0NEmfS1",
        "outputId": "dd66fb6f-6477-4302-f870-5dfc3fdf4694"
      },
      "execution_count": 14,
      "outputs": [
        {
          "output_type": "stream",
          "name": "stdout",
          "text": [
            "'r' for rock, 'p' for paper, 's' for scissors \n",
            "p\n",
            "Match Tie\n"
          ]
        }
      ]
    }
  ]
}