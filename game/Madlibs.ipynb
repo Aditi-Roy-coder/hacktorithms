{
  "nbformat": 4,
  "nbformat_minor": 0,
  "metadata": {
    "colab": {
      "provenance": []
    },
    "kernelspec": {
      "name": "python3",
      "display_name": "Python 3"
    },
    "language_info": {
      "name": "python"
    }
  },
  "cells": [
    {
      "cell_type": "markdown",
      "source": [
        "# fill the required words wherever necessary"
      ],
      "metadata": {
        "id": "lHY4DY_Ufk9J"
      }
    },
    {
      "cell_type": "code",
      "execution_count": 1,
      "metadata": {
        "colab": {
          "base_uri": "https://localhost:8080/"
        },
        "id": "gKQ8yja8cuH3",
        "outputId": "f2be93ab-ac13-40cc-80ed-11dd7b0aa7be"
      },
      "outputs": [
        {
          "name": "stdout",
          "output_type": "stream",
          "text": [
            "choose your 1st word: wondered\n",
            "choose your 2nd word: overthink\n",
            "choose your 3rd word: underestimate\n",
            "choose your 4th word: confident\n"
          ]
        }
      ],
      "source": [
        "choose1 = input(\"choose your 1st word: \")\n",
        "choose2 = input(\"choose your 2nd word: \")\n",
        "choose3 = input(\"choose your 3rd word: \")\n",
        "choose4 = input(\"choose your 4th word: \")"
      ]
    },
    {
      "cell_type": "code",
      "source": [
        "madlib = f\"Have you ever {choose1} that life would be so wonderful,\\nif you just don't {choose2} and {choose3} yourself.\\nWe just need to prove that we are {choose4}.\""
      ],
      "metadata": {
        "id": "cVppJkFecxw9"
      },
      "execution_count": 4,
      "outputs": []
    },
    {
      "cell_type": "code",
      "source": [
        "print(madlib)"
      ],
      "metadata": {
        "colab": {
          "base_uri": "https://localhost:8080/"
        },
        "id": "HHkE_vNeipEv",
        "outputId": "ce177499-2826-4146-f7b6-aef3668c4762"
      },
      "execution_count": 5,
      "outputs": [
        {
          "output_type": "stream",
          "name": "stdout",
          "text": [
            "Have you ever wondered that life would be so wonderful,\n",
            "if you just don't overthink and underestimate yourself.\n",
            "We just need to prove that we are confident.\n"
          ]
        }
      ]
    }
  ]
}